{
 "cells": [
  {
   "cell_type": "code",
   "execution_count": 21,
   "id": "fc85fb3b",
   "metadata": {},
   "outputs": [],
   "source": [
    "import pandas as pd\n",
    "import numpy as np\n",
    "import re\n",
    "from zipfile import ZipFile, Path\n",
    "import json\n",
    "\n",
    "archive_path = '/home/bobiyu/Documents/UNI/ПТС/InputData.zip'"
   ]
  },
  {
   "cell_type": "code",
   "execution_count": 4,
   "id": "10bd1804",
   "metadata": {},
   "outputs": [],
   "source": [
    "allowed_file_extentions = ('.xls','.xlsx', '.ods', '.odf' ,'.odt', '.csv')"
   ]
  },
  {
   "cell_type": "markdown",
   "id": "2fc04b76",
   "metadata": {},
   "source": [
    "#### Case: Zip file uploaded for course analysis"
   ]
  },
  {
   "cell_type": "code",
   "execution_count": 5,
   "id": "42226cf6",
   "metadata": {},
   "outputs": [
    {
     "name": "stdout",
     "output_type": "stream",
     "text": [
      "CPU times: user 2 µs, sys: 1 µs, total: 3 µs\n",
      "Wall time: 4.77 µs\n",
      "Result file found! Appending DF to list.\n",
      "Result file found! Appending DF to list.\n",
      "Log file found! Appending DF to list.\n"
     ]
    }
   ],
   "source": [
    "results_df = []\n",
    "logs_df = []\n",
    "\n",
    "with ZipFile(archive_path) as input_archive:\n",
    "    %time\n",
    "    for item in input_archive.namelist():\n",
    "        if item.endswith(allowed_file_extentions):\n",
    "            with input_archive.open(item) as data_file:\n",
    "                if data_file.name.endswith(allowed_file_extentions[-1]):                    \n",
    "                    df = pd.read_csv(data_file)\n",
    "                else:\n",
    "                    df = pd.read_excel(data_file)\n",
    "                    \n",
    "                if 'ID' and 'Result' in df.columns:\n",
    "                    results_df.append(df)\n",
    "                    print('Result file found! Appending DF to list.')\n",
    "                elif 'Event' and 'Component' in df.columns:\n",
    "                    df['User ID'] = df['Description'].apply(lambda x: np.int32(re.sub(r\"[\\D]+\",' ', x).strip().split()[0]))\n",
    "                    logs_df.append(df)\n",
    "                    print('Log file found! Appending DF to list.')\n",
    "                else:\n",
    "                    print('Nothing found!')"
   ]
  },
  {
   "cell_type": "code",
   "execution_count": 6,
   "id": "fb084fd0",
   "metadata": {
    "scrolled": true
   },
   "outputs": [
    {
     "name": "stdout",
     "output_type": "stream",
     "text": [
      "CPU times: user 2 µs, sys: 0 ns, total: 2 µs\n",
      "Wall time: 3.58 µs\n"
     ]
    }
   ],
   "source": [
    "%time\n",
    "student_results = pd.concat(results_df).sort_values(by='ID', ascending=True)\n",
    "del results_df"
   ]
  },
  {
   "cell_type": "code",
   "execution_count": 7,
   "id": "e8c6f42b",
   "metadata": {
    "scrolled": true
   },
   "outputs": [
    {
     "name": "stdout",
     "output_type": "stream",
     "text": [
      "CPU times: user 4 µs, sys: 0 ns, total: 4 µs\n",
      "Wall time: 5.48 µs\n"
     ]
    }
   ],
   "source": [
    "%time\n",
    "system_logs = pd.concat(logs_df)\n",
    "del logs_df"
   ]
  },
  {
   "cell_type": "markdown",
   "id": "76030100",
   "metadata": {},
   "source": [
    "### честотно разпределение"
   ]
  },
  {
   "cell_type": "code",
   "execution_count": 35,
   "id": "3b619d14",
   "metadata": {},
   "outputs": [
    {
     "name": "stdout",
     "output_type": "stream",
     "text": [
      "CPU times: user 7 µs, sys: 1 µs, total: 8 µs\n",
      "Wall time: 14.8 µs\n"
     ]
    }
   ],
   "source": [
    "%time\n",
    "res_abs_freq = student_results['Result'].value_counts()"
   ]
  },
  {
   "cell_type": "code",
   "execution_count": 45,
   "id": "83521443",
   "metadata": {},
   "outputs": [
    {
     "name": "stdout",
     "output_type": "stream",
     "text": [
      "136\n"
     ]
    }
   ],
   "source": [
    "res_total = res_abs_freq.sum()\n",
    "print(res_total)"
   ]
  },
  {
   "cell_type": "code",
   "execution_count": 46,
   "id": "cfe3c175",
   "metadata": {
    "scrolled": true
   },
   "outputs": [
    {
     "data": {
      "text/plain": [
       "6.0    50.74\n",
       "5.0    19.12\n",
       "4.0    15.44\n",
       "2.0     9.56\n",
       "3.0     4.41\n",
       "3.5     0.74\n",
       "Name: Result, dtype: float64"
      ]
     },
     "execution_count": 46,
     "metadata": {},
     "output_type": "execute_result"
    }
   ],
   "source": [
    "#calculate relative freq\n",
    "res_abs_freq.apply(lambda r: np.round(r / res_total *100, 2))"
   ]
  },
  {
   "cell_type": "code",
   "execution_count": 57,
   "id": "f715beef",
   "metadata": {},
   "outputs": [
    {
     "name": "stdout",
     "output_type": "stream",
     "text": [
      "CPU times: user 10 µs, sys: 0 ns, total: 10 µs\n",
      "Wall time: 17.9 µs\n"
     ]
    }
   ],
   "source": [
    "%time\n",
    "keys = res_abs_freq.keys().sort_values()\n",
    "\n",
    "ret = []\n",
    "\n",
    "for k in keys:\n",
    "    d = {}\n",
    "    d['Result'] = k\n",
    "    d['Abs freq'] = res_abs_freq[k]\n",
    "    d['Rel freq'] = np.round(res_abs_freq[k] / res_total * 100, 2)\n",
    "    ret.append(d)\n"
   ]
  },
  {
   "cell_type": "code",
   "execution_count": 58,
   "id": "542fde3a",
   "metadata": {
    "scrolled": true
   },
   "outputs": [
    {
     "data": {
      "text/plain": [
       "[{'Result': 2.0, 'Abs freq': 13, 'Rel freq': 9.56},\n",
       " {'Result': 3.0, 'Abs freq': 6, 'Rel freq': 4.41},\n",
       " {'Result': 3.5, 'Abs freq': 1, 'Rel freq': 0.74},\n",
       " {'Result': 4.0, 'Abs freq': 21, 'Rel freq': 15.44},\n",
       " {'Result': 5.0, 'Abs freq': 26, 'Rel freq': 19.12},\n",
       " {'Result': 6.0, 'Abs freq': 69, 'Rel freq': 50.74}]"
      ]
     },
     "execution_count": 58,
     "metadata": {},
     "output_type": "execute_result"
    }
   ],
   "source": [
    "ret"
   ]
  },
  {
   "cell_type": "code",
   "execution_count": 59,
   "id": "1d48bfc1",
   "metadata": {},
   "outputs": [
    {
     "data": {
      "text/html": [
       "<div>\n",
       "<style scoped>\n",
       "    .dataframe tbody tr th:only-of-type {\n",
       "        vertical-align: middle;\n",
       "    }\n",
       "\n",
       "    .dataframe tbody tr th {\n",
       "        vertical-align: top;\n",
       "    }\n",
       "\n",
       "    .dataframe thead th {\n",
       "        text-align: right;\n",
       "    }\n",
       "</style>\n",
       "<table border=\"1\" class=\"dataframe\">\n",
       "  <thead>\n",
       "    <tr style=\"text-align: right;\">\n",
       "      <th></th>\n",
       "      <th>Result</th>\n",
       "      <th>Abs freq</th>\n",
       "      <th>Rel freq</th>\n",
       "    </tr>\n",
       "  </thead>\n",
       "  <tbody>\n",
       "    <tr>\n",
       "      <th>0</th>\n",
       "      <td>2.0</td>\n",
       "      <td>13</td>\n",
       "      <td>9.56</td>\n",
       "    </tr>\n",
       "    <tr>\n",
       "      <th>1</th>\n",
       "      <td>3.0</td>\n",
       "      <td>6</td>\n",
       "      <td>4.41</td>\n",
       "    </tr>\n",
       "    <tr>\n",
       "      <th>2</th>\n",
       "      <td>3.5</td>\n",
       "      <td>1</td>\n",
       "      <td>0.74</td>\n",
       "    </tr>\n",
       "    <tr>\n",
       "      <th>3</th>\n",
       "      <td>4.0</td>\n",
       "      <td>21</td>\n",
       "      <td>15.44</td>\n",
       "    </tr>\n",
       "    <tr>\n",
       "      <th>4</th>\n",
       "      <td>5.0</td>\n",
       "      <td>26</td>\n",
       "      <td>19.12</td>\n",
       "    </tr>\n",
       "    <tr>\n",
       "      <th>5</th>\n",
       "      <td>6.0</td>\n",
       "      <td>69</td>\n",
       "      <td>50.74</td>\n",
       "    </tr>\n",
       "  </tbody>\n",
       "</table>\n",
       "</div>"
      ],
      "text/plain": [
       "   Result  Abs freq  Rel freq\n",
       "0     2.0        13      9.56\n",
       "1     3.0         6      4.41\n",
       "2     3.5         1      0.74\n",
       "3     4.0        21     15.44\n",
       "4     5.0        26     19.12\n",
       "5     6.0        69     50.74"
      ]
     },
     "execution_count": 59,
     "metadata": {},
     "output_type": "execute_result"
    }
   ],
   "source": [
    "pd.DataFrame.from_dict(ret)"
   ]
  },
  {
   "cell_type": "markdown",
   "id": "364aae31",
   "metadata": {},
   "source": [
    "### мерки на централната тенденция"
   ]
  },
  {
   "cell_type": "code",
   "execution_count": 61,
   "id": "eb758d4d",
   "metadata": {},
   "outputs": [],
   "source": [
    "upr_num = '2'\n",
    "event_context = f'Assignment: Качване на Упр. {upr_num}'\n",
    "event_name = 'Submission created.'"
   ]
  },
  {
   "cell_type": "code",
   "execution_count": 104,
   "id": "d4c5f63b",
   "metadata": {},
   "outputs": [
    {
     "name": "stdout",
     "output_type": "stream",
     "text": [
      "CPU times: user 3 µs, sys: 0 ns, total: 3 µs\n",
      "Wall time: 5.48 µs\n"
     ]
    }
   ],
   "source": [
    "%time\n",
    "df = system_logs\n",
    "filtered_data = df[df['Event context'].str.contains(event_context) & (df['Event name'] == event_name)]['Description']"
   ]
  },
  {
   "cell_type": "code",
   "execution_count": 64,
   "id": "eff2d1cc",
   "metadata": {},
   "outputs": [
    {
     "name": "stdout",
     "output_type": "stream",
     "text": [
      "CPU times: user 4 µs, sys: 0 ns, total: 4 µs\n",
      "Wall time: 6.68 µs\n"
     ]
    }
   ],
   "source": [
    "%time\n",
    "uploded_files = np.empty_like(filtered_data, dtype=int)\n",
    "# uploded_files = []\n",
    "\n",
    "for index, item in enumerate(filtered_data):\n",
    "    val = re.sub(r\"[\\D]+\",' ', item).strip()\n",
    "    uploded_files[index] = np.fromstring(val, dtype=np.int32, sep=' ')[1]"
   ]
  },
  {
   "cell_type": "code",
   "execution_count": 66,
   "id": "3733acce",
   "metadata": {},
   "outputs": [],
   "source": [
    "uploded_files.sort()"
   ]
  },
  {
   "cell_type": "code",
   "execution_count": 67,
   "id": "605d7cb1",
   "metadata": {},
   "outputs": [
    {
     "data": {
      "text/plain": [
       "array([1, 1, 1, 1, 1, 1, 1, 1, 1, 1, 1, 1, 1, 1, 1, 1, 1, 1, 1, 1, 1, 1,\n",
       "       1, 1, 1, 1, 1, 1, 1, 1, 1, 1, 1, 1, 1, 1, 1, 1, 1, 1, 1, 1, 1, 1,\n",
       "       1, 1, 1, 1, 1, 1, 1, 1, 1, 1, 1, 1, 1, 1, 1, 1, 1, 1, 1, 1, 1, 1,\n",
       "       1, 1, 1, 1, 1, 1, 1, 1, 1, 1, 1, 1, 1, 1, 2, 2, 2, 2, 2])"
      ]
     },
     "execution_count": 67,
     "metadata": {},
     "output_type": "execute_result"
    }
   ],
   "source": [
    "uploded_files"
   ]
  },
  {
   "cell_type": "code",
   "execution_count": 69,
   "id": "dd5d2650",
   "metadata": {},
   "outputs": [],
   "source": [
    "uploded_files_stats = {}"
   ]
  },
  {
   "cell_type": "code",
   "execution_count": 74,
   "id": "bb6c3672",
   "metadata": {},
   "outputs": [],
   "source": [
    "from statistics import mode\n",
    "\n",
    "#mode\n",
    "uploded_files_stats['mode'] = mode(uploded_files)\n",
    "\n",
    "#average\n",
    "uploded_files_stats['mean'] = np.round(np.mean(uploded_files), 3)\n",
    "\n",
    "#meadian\n",
    "uploded_files_stats['median'] = np.median(uploded_files)"
   ]
  },
  {
   "cell_type": "code",
   "execution_count": 75,
   "id": "2fc0579f",
   "metadata": {},
   "outputs": [
    {
     "data": {
      "text/plain": [
       "{'mode': 1, 'mean': 1.059, 'median': 1.0}"
      ]
     },
     "execution_count": 75,
     "metadata": {},
     "output_type": "execute_result"
    }
   ],
   "source": [
    "uploded_files_stats"
   ]
  },
  {
   "cell_type": "markdown",
   "id": "cb804406",
   "metadata": {},
   "source": [
    "### мерки на разсейване"
   ]
  },
  {
   "cell_type": "code",
   "execution_count": 86,
   "id": "74c28fcd",
   "metadata": {},
   "outputs": [],
   "source": [
    "spread_measurements = {}"
   ]
  },
  {
   "cell_type": "code",
   "execution_count": 87,
   "id": "179df0a4",
   "metadata": {},
   "outputs": [],
   "source": [
    "#размах\n",
    "spread_measurements['spread'] = uploded_files[-1] - uploded_files[0]\n",
    "\n",
    "#dispersion\n",
    "spread_measurements['variance'] = np.round(np.var(uploded_files), 4)\n",
    "\n",
    "#STDEV\n",
    "spread_measurements['std'] = np.round(np.std(uploded_files), 4)"
   ]
  },
  {
   "cell_type": "code",
   "execution_count": 88,
   "id": "12593233",
   "metadata": {
    "scrolled": true
   },
   "outputs": [
    {
     "name": "stdout",
     "output_type": "stream",
     "text": [
      "{'spread': 1, 'variance': 0.0554, 'std': 0.2353}\n"
     ]
    }
   ],
   "source": [
    "print(spread_measurements)"
   ]
  },
  {
   "cell_type": "markdown",
   "id": "756e4338",
   "metadata": {},
   "source": [
    "### корелационен анализ"
   ]
  },
  {
   "cell_type": "code",
   "execution_count": 8,
   "id": "2b26ae1b",
   "metadata": {},
   "outputs": [],
   "source": [
    "corr_df = student_results.copy()"
   ]
  },
  {
   "cell_type": "code",
   "execution_count": 9,
   "id": "a7c0bbd4",
   "metadata": {},
   "outputs": [],
   "source": [
    "df = system_logs\n",
    "corr_df['View Count'] = corr_df['ID'].apply(lambda uid: df[df['Event name'].str.contains('Course viewed') & (df['User ID']==uid)]['User ID'].count())"
   ]
  },
  {
   "cell_type": "code",
   "execution_count": 10,
   "id": "f7b3f59f",
   "metadata": {
    "scrolled": true
   },
   "outputs": [
    {
     "data": {
      "text/html": [
       "<div>\n",
       "<style scoped>\n",
       "    .dataframe tbody tr th:only-of-type {\n",
       "        vertical-align: middle;\n",
       "    }\n",
       "\n",
       "    .dataframe tbody tr th {\n",
       "        vertical-align: top;\n",
       "    }\n",
       "\n",
       "    .dataframe thead th {\n",
       "        text-align: right;\n",
       "    }\n",
       "</style>\n",
       "<table border=\"1\" class=\"dataframe\">\n",
       "  <thead>\n",
       "    <tr style=\"text-align: right;\">\n",
       "      <th></th>\n",
       "      <th>ID</th>\n",
       "      <th>Result</th>\n",
       "      <th>View Count</th>\n",
       "    </tr>\n",
       "  </thead>\n",
       "  <tbody>\n",
       "    <tr>\n",
       "      <th>8</th>\n",
       "      <td>6532</td>\n",
       "      <td>6.0</td>\n",
       "      <td>66</td>\n",
       "    </tr>\n",
       "    <tr>\n",
       "      <th>4</th>\n",
       "      <td>7448</td>\n",
       "      <td>5.0</td>\n",
       "      <td>2</td>\n",
       "    </tr>\n",
       "    <tr>\n",
       "      <th>3</th>\n",
       "      <td>7907</td>\n",
       "      <td>6.0</td>\n",
       "      <td>42</td>\n",
       "    </tr>\n",
       "    <tr>\n",
       "      <th>5</th>\n",
       "      <td>7909</td>\n",
       "      <td>4.0</td>\n",
       "      <td>28</td>\n",
       "    </tr>\n",
       "    <tr>\n",
       "      <th>6</th>\n",
       "      <td>7910</td>\n",
       "      <td>5.0</td>\n",
       "      <td>58</td>\n",
       "    </tr>\n",
       "    <tr>\n",
       "      <th>7</th>\n",
       "      <td>7911</td>\n",
       "      <td>4.0</td>\n",
       "      <td>31</td>\n",
       "    </tr>\n",
       "  </tbody>\n",
       "</table>\n",
       "</div>"
      ],
      "text/plain": [
       "     ID  Result  View Count\n",
       "8  6532     6.0          66\n",
       "4  7448     5.0           2\n",
       "3  7907     6.0          42\n",
       "5  7909     4.0          28\n",
       "6  7910     5.0          58\n",
       "7  7911     4.0          31"
      ]
     },
     "execution_count": 10,
     "metadata": {},
     "output_type": "execute_result"
    }
   ],
   "source": [
    "corr_df.head(6)"
   ]
  },
  {
   "cell_type": "code",
   "execution_count": 28,
   "id": "c7ea88a1",
   "metadata": {},
   "outputs": [],
   "source": [
    "correl = np.round(corr_df[['Result', 'View Count']].corr()['View Count']['Result'], 4)"
   ]
  },
  {
   "cell_type": "code",
   "execution_count": 29,
   "id": "b1f6f000",
   "metadata": {
    "scrolled": true
   },
   "outputs": [
    {
     "name": "stdout",
     "output_type": "stream",
     "text": [
      "{'quotient': 0.3304, 'dependency': 'значителна зависимост', 'direction': 'положителна'}\n"
     ]
    }
   ],
   "source": [
    "corr_data = {}\n",
    "corr_data['quotient'] = correl\n",
    "\n",
    "corr = abs(correl)\n",
    "if corr == 0:\n",
    "    corr_data['dependency'] = 'липсва зависимост'\n",
    "elif 0 > corr <= 0.3:\n",
    "    corr_data['dependency'] = 'зависимостта е слаба'\n",
    "elif 0.3 > corr <= 0.5:\n",
    "    corr_data['dependency'] = 'умерена зависимост'\n",
    "elif 0.5 > corr <= 0.7:\n",
    "    corr_data['dependency'] = 'значителна зависимост'\n",
    "elif 0.7 > corr <= 0.9:\n",
    "    corr_data['dependency'] = 'силна зависимост'\n",
    "elif 0.9 > corr < 1:\n",
    "    corr_data['dependency'] = 'много силна зависимост'\n",
    "elif corr == 1:\n",
    "    corr_data['dependency'] = 'зависимостта е функционална'\n",
    "    \n",
    "if correl >= 0:\n",
    "    corr_data['direction'] = 'положителна'\n",
    "else:\n",
    "    corr_data['direction'] = 'отрицателна'\n",
    "    \n",
    "print(corr_data)"
   ]
  },
  {
   "cell_type": "code",
   "execution_count": 20,
   "id": "8622c58b",
   "metadata": {},
   "outputs": [],
   "source": [
    "dt = {'correlation': 0.3304, 'dependency': 'значителна зависимост'}"
   ]
  },
  {
   "cell_type": "code",
   "execution_count": 33,
   "id": "1aa6aea9",
   "metadata": {},
   "outputs": [
    {
     "data": {
      "text/plain": [
       "'{\"quotient\": 0.3304, \"dependency\": \"\\\\u0437\\\\u043d\\\\u0430\\\\u0447\\\\u0438\\\\u0442\\\\u0435\\\\u043b\\\\u043d\\\\u0430 \\\\u0437\\\\u0430\\\\u0432\\\\u0438\\\\u0441\\\\u0438\\\\u043c\\\\u043e\\\\u0441\\\\u0442\", \"direction\": \"\\\\u043f\\\\u043e\\\\u043b\\\\u043e\\\\u0436\\\\u0438\\\\u0442\\\\u0435\\\\u043b\\\\u043d\\\\u0430\"}'"
      ]
     },
     "execution_count": 33,
     "metadata": {},
     "output_type": "execute_result"
    }
   ],
   "source": [
    "json.dumps([corr_data])"
   ]
  },
  {
   "cell_type": "markdown",
   "id": "776b8a2d",
   "metadata": {},
   "source": [
    "### честотното разпределение на данните от Вариант B"
   ]
  },
  {
   "cell_type": "code",
   "execution_count": 13,
   "id": "1af936ae",
   "metadata": {},
   "outputs": [],
   "source": [
    "total_vc = corr_df['View Count'].sum()"
   ]
  },
  {
   "cell_type": "code",
   "execution_count": 14,
   "id": "a551972b",
   "metadata": {},
   "outputs": [],
   "source": [
    "corr_df['Result rel freq'] = corr_df['View Count'].apply(lambda vc: np.round(vc / total_vc *100, 2))"
   ]
  },
  {
   "cell_type": "code",
   "execution_count": 30,
   "id": "51ece525",
   "metadata": {},
   "outputs": [],
   "source": [
    "correl_df = corr_df.rename(columns={'Result rel freq': 'result_rel_freq', 'View Count': 'view_count', 'Result': 'result', 'ID': 'id'})"
   ]
  },
  {
   "cell_type": "code",
   "execution_count": 31,
   "id": "737371bb",
   "metadata": {
    "scrolled": true
   },
   "outputs": [
    {
     "data": {
      "text/html": [
       "<div>\n",
       "<style scoped>\n",
       "    .dataframe tbody tr th:only-of-type {\n",
       "        vertical-align: middle;\n",
       "    }\n",
       "\n",
       "    .dataframe tbody tr th {\n",
       "        vertical-align: top;\n",
       "    }\n",
       "\n",
       "    .dataframe thead th {\n",
       "        text-align: right;\n",
       "    }\n",
       "</style>\n",
       "<table border=\"1\" class=\"dataframe\">\n",
       "  <thead>\n",
       "    <tr style=\"text-align: right;\">\n",
       "      <th></th>\n",
       "      <th>id</th>\n",
       "      <th>result</th>\n",
       "      <th>view_count</th>\n",
       "      <th>result_rel_freq</th>\n",
       "    </tr>\n",
       "  </thead>\n",
       "  <tbody>\n",
       "    <tr>\n",
       "      <th>8</th>\n",
       "      <td>6532</td>\n",
       "      <td>6.0</td>\n",
       "      <td>66</td>\n",
       "      <td>0.73</td>\n",
       "    </tr>\n",
       "    <tr>\n",
       "      <th>4</th>\n",
       "      <td>7448</td>\n",
       "      <td>5.0</td>\n",
       "      <td>2</td>\n",
       "      <td>0.02</td>\n",
       "    </tr>\n",
       "    <tr>\n",
       "      <th>3</th>\n",
       "      <td>7907</td>\n",
       "      <td>6.0</td>\n",
       "      <td>42</td>\n",
       "      <td>0.47</td>\n",
       "    </tr>\n",
       "    <tr>\n",
       "      <th>5</th>\n",
       "      <td>7909</td>\n",
       "      <td>4.0</td>\n",
       "      <td>28</td>\n",
       "      <td>0.31</td>\n",
       "    </tr>\n",
       "    <tr>\n",
       "      <th>6</th>\n",
       "      <td>7910</td>\n",
       "      <td>5.0</td>\n",
       "      <td>58</td>\n",
       "      <td>0.65</td>\n",
       "    </tr>\n",
       "    <tr>\n",
       "      <th>7</th>\n",
       "      <td>7911</td>\n",
       "      <td>4.0</td>\n",
       "      <td>31</td>\n",
       "      <td>0.34</td>\n",
       "    </tr>\n",
       "    <tr>\n",
       "      <th>9</th>\n",
       "      <td>7912</td>\n",
       "      <td>4.0</td>\n",
       "      <td>17</td>\n",
       "      <td>0.19</td>\n",
       "    </tr>\n",
       "    <tr>\n",
       "      <th>13</th>\n",
       "      <td>7913</td>\n",
       "      <td>6.0</td>\n",
       "      <td>105</td>\n",
       "      <td>1.17</td>\n",
       "    </tr>\n",
       "  </tbody>\n",
       "</table>\n",
       "</div>"
      ],
      "text/plain": [
       "      id  result  view_count  result_rel_freq\n",
       "8   6532     6.0          66             0.73\n",
       "4   7448     5.0           2             0.02\n",
       "3   7907     6.0          42             0.47\n",
       "5   7909     4.0          28             0.31\n",
       "6   7910     5.0          58             0.65\n",
       "7   7911     4.0          31             0.34\n",
       "9   7912     4.0          17             0.19\n",
       "13  7913     6.0         105             1.17"
      ]
     },
     "execution_count": 31,
     "metadata": {},
     "output_type": "execute_result"
    }
   ],
   "source": [
    "correl_df.head(8)"
   ]
  },
  {
   "cell_type": "code",
   "execution_count": 19,
   "id": "54e81b38",
   "metadata": {},
   "outputs": [
    {
     "data": {
      "text/plain": [
       "(136, 4)"
      ]
     },
     "execution_count": 19,
     "metadata": {},
     "output_type": "execute_result"
    }
   ],
   "source": [
    "corr_df.shape"
   ]
  },
  {
   "cell_type": "code",
   "execution_count": 32,
   "id": "b51de68c",
   "metadata": {
    "scrolled": true
   },
   "outputs": [
    {
     "data": {
      "text/plain": [
       "'[{\"id\":6532,\"result\":6.0,\"view_count\":66,\"result_rel_freq\":0.73},{\"id\":7448,\"result\":5.0,\"view_count\":2,\"result_rel_freq\":0.02},{\"id\":7907,\"result\":6.0,\"view_count\":42,\"result_rel_freq\":0.47},{\"id\":7909,\"result\":4.0,\"view_count\":28,\"result_rel_freq\":0.31},{\"id\":7910,\"result\":5.0,\"view_count\":58,\"result_rel_freq\":0.65},{\"id\":7911,\"result\":4.0,\"view_count\":31,\"result_rel_freq\":0.34},{\"id\":7912,\"result\":4.0,\"view_count\":17,\"result_rel_freq\":0.19},{\"id\":7913,\"result\":6.0,\"view_count\":105,\"result_rel_freq\":1.17},{\"id\":7914,\"result\":4.0,\"view_count\":5,\"result_rel_freq\":0.06},{\"id\":7915,\"result\":6.0,\"view_count\":106,\"result_rel_freq\":1.18},{\"id\":7916,\"result\":5.0,\"view_count\":33,\"result_rel_freq\":0.37},{\"id\":7917,\"result\":4.0,\"view_count\":61,\"result_rel_freq\":0.68},{\"id\":7918,\"result\":5.0,\"view_count\":7,\"result_rel_freq\":0.08},{\"id\":7919,\"result\":6.0,\"view_count\":49,\"result_rel_freq\":0.55},{\"id\":7921,\"result\":4.0,\"view_count\":25,\"result_rel_freq\":0.28},{\"id\":7922,\"result\":3.5,\"view_count\":121,\"result_rel_freq\":1.35},{\"id\":7924,\"result\":3.0,\"view_count\":18,\"result_rel_freq\":0.2},{\"id\":7925,\"result\":4.0,\"view_count\":7,\"result_rel_freq\":0.08},{\"id\":7926,\"result\":2.0,\"view_count\":40,\"result_rel_freq\":0.45},{\"id\":7927,\"result\":4.0,\"view_count\":27,\"result_rel_freq\":0.3},{\"id\":7928,\"result\":6.0,\"view_count\":93,\"result_rel_freq\":1.03},{\"id\":7929,\"result\":3.0,\"view_count\":88,\"result_rel_freq\":0.98},{\"id\":7930,\"result\":6.0,\"view_count\":42,\"result_rel_freq\":0.47},{\"id\":7931,\"result\":6.0,\"view_count\":28,\"result_rel_freq\":0.31},{\"id\":7932,\"result\":6.0,\"view_count\":51,\"result_rel_freq\":0.57},{\"id\":7933,\"result\":4.0,\"view_count\":75,\"result_rel_freq\":0.83},{\"id\":7934,\"result\":6.0,\"view_count\":105,\"result_rel_freq\":1.17},{\"id\":7935,\"result\":6.0,\"view_count\":54,\"result_rel_freq\":0.6},{\"id\":7936,\"result\":6.0,\"view_count\":48,\"result_rel_freq\":0.53},{\"id\":7938,\"result\":6.0,\"view_count\":33,\"result_rel_freq\":0.37},{\"id\":7941,\"result\":6.0,\"view_count\":121,\"result_rel_freq\":1.35},{\"id\":7942,\"result\":6.0,\"view_count\":44,\"result_rel_freq\":0.49},{\"id\":7943,\"result\":6.0,\"view_count\":15,\"result_rel_freq\":0.17},{\"id\":7944,\"result\":3.0,\"view_count\":57,\"result_rel_freq\":0.63},{\"id\":7945,\"result\":4.0,\"view_count\":26,\"result_rel_freq\":0.29},{\"id\":7946,\"result\":4.0,\"view_count\":50,\"result_rel_freq\":0.56},{\"id\":7947,\"result\":5.0,\"view_count\":50,\"result_rel_freq\":0.56},{\"id\":7948,\"result\":3.0,\"view_count\":11,\"result_rel_freq\":0.12},{\"id\":7949,\"result\":5.0,\"view_count\":58,\"result_rel_freq\":0.65},{\"id\":7950,\"result\":5.0,\"view_count\":42,\"result_rel_freq\":0.47},{\"id\":7951,\"result\":6.0,\"view_count\":25,\"result_rel_freq\":0.28},{\"id\":7952,\"result\":6.0,\"view_count\":40,\"result_rel_freq\":0.45},{\"id\":7953,\"result\":6.0,\"view_count\":107,\"result_rel_freq\":1.19},{\"id\":7954,\"result\":4.0,\"view_count\":91,\"result_rel_freq\":1.01},{\"id\":7955,\"result\":2.0,\"view_count\":10,\"result_rel_freq\":0.11},{\"id\":8019,\"result\":6.0,\"view_count\":2,\"result_rel_freq\":0.02},{\"id\":8373,\"result\":6.0,\"view_count\":89,\"result_rel_freq\":0.99},{\"id\":8374,\"result\":6.0,\"view_count\":44,\"result_rel_freq\":0.49},{\"id\":8375,\"result\":6.0,\"view_count\":52,\"result_rel_freq\":0.58},{\"id\":8376,\"result\":6.0,\"view_count\":79,\"result_rel_freq\":0.88},{\"id\":8377,\"result\":6.0,\"view_count\":65,\"result_rel_freq\":0.72},{\"id\":8378,\"result\":6.0,\"view_count\":86,\"result_rel_freq\":0.96},{\"id\":8379,\"result\":2.0,\"view_count\":74,\"result_rel_freq\":0.82},{\"id\":8380,\"result\":5.0,\"view_count\":161,\"result_rel_freq\":1.79},{\"id\":8381,\"result\":2.0,\"view_count\":66,\"result_rel_freq\":0.73},{\"id\":8382,\"result\":5.0,\"view_count\":49,\"result_rel_freq\":0.55},{\"id\":8383,\"result\":5.0,\"view_count\":86,\"result_rel_freq\":0.96},{\"id\":8384,\"result\":4.0,\"view_count\":47,\"result_rel_freq\":0.52},{\"id\":8385,\"result\":5.0,\"view_count\":18,\"result_rel_freq\":0.2},{\"id\":8386,\"result\":5.0,\"view_count\":5,\"result_rel_freq\":0.06},{\"id\":8387,\"result\":6.0,\"view_count\":101,\"result_rel_freq\":1.12},{\"id\":8388,\"result\":5.0,\"view_count\":59,\"result_rel_freq\":0.66},{\"id\":8389,\"result\":6.0,\"view_count\":69,\"result_rel_freq\":0.77},{\"id\":8390,\"result\":6.0,\"view_count\":129,\"result_rel_freq\":1.44},{\"id\":8391,\"result\":6.0,\"view_count\":218,\"result_rel_freq\":2.43},{\"id\":8392,\"result\":6.0,\"view_count\":70,\"result_rel_freq\":0.78},{\"id\":8393,\"result\":4.0,\"view_count\":129,\"result_rel_freq\":1.44},{\"id\":8394,\"result\":6.0,\"view_count\":95,\"result_rel_freq\":1.06},{\"id\":8395,\"result\":5.0,\"view_count\":64,\"result_rel_freq\":0.71},{\"id\":8396,\"result\":5.0,\"view_count\":54,\"result_rel_freq\":0.6},{\"id\":8397,\"result\":6.0,\"view_count\":41,\"result_rel_freq\":0.46},{\"id\":8398,\"result\":5.0,\"view_count\":116,\"result_rel_freq\":1.29},{\"id\":8399,\"result\":6.0,\"view_count\":150,\"result_rel_freq\":1.67},{\"id\":8400,\"result\":6.0,\"view_count\":124,\"result_rel_freq\":1.38},{\"id\":8401,\"result\":6.0,\"view_count\":106,\"result_rel_freq\":1.18},{\"id\":8402,\"result\":6.0,\"view_count\":105,\"result_rel_freq\":1.17},{\"id\":8403,\"result\":6.0,\"view_count\":48,\"result_rel_freq\":0.53},{\"id\":8404,\"result\":5.0,\"view_count\":48,\"result_rel_freq\":0.53},{\"id\":8405,\"result\":3.0,\"view_count\":9,\"result_rel_freq\":0.1},{\"id\":8406,\"result\":6.0,\"view_count\":84,\"result_rel_freq\":0.93},{\"id\":8407,\"result\":6.0,\"view_count\":78,\"result_rel_freq\":0.87},{\"id\":8408,\"result\":6.0,\"view_count\":114,\"result_rel_freq\":1.27},{\"id\":8409,\"result\":6.0,\"view_count\":15,\"result_rel_freq\":0.17},{\"id\":8410,\"result\":4.0,\"view_count\":75,\"result_rel_freq\":0.83},{\"id\":8411,\"result\":4.0,\"view_count\":43,\"result_rel_freq\":0.48},{\"id\":8412,\"result\":4.0,\"view_count\":110,\"result_rel_freq\":1.22},{\"id\":8413,\"result\":6.0,\"view_count\":139,\"result_rel_freq\":1.55},{\"id\":8414,\"result\":6.0,\"view_count\":173,\"result_rel_freq\":1.92},{\"id\":8415,\"result\":4.0,\"view_count\":129,\"result_rel_freq\":1.44},{\"id\":8416,\"result\":2.0,\"view_count\":35,\"result_rel_freq\":0.39},{\"id\":8417,\"result\":5.0,\"view_count\":44,\"result_rel_freq\":0.49},{\"id\":8418,\"result\":6.0,\"view_count\":21,\"result_rel_freq\":0.23},{\"id\":8419,\"result\":6.0,\"view_count\":59,\"result_rel_freq\":0.66},{\"id\":8420,\"result\":6.0,\"view_count\":109,\"result_rel_freq\":1.21},{\"id\":8421,\"result\":6.0,\"view_count\":60,\"result_rel_freq\":0.67},{\"id\":8422,\"result\":6.0,\"view_count\":72,\"result_rel_freq\":0.8},{\"id\":8423,\"result\":6.0,\"view_count\":105,\"result_rel_freq\":1.17},{\"id\":8424,\"result\":6.0,\"view_count\":158,\"result_rel_freq\":1.76},{\"id\":8425,\"result\":2.0,\"view_count\":21,\"result_rel_freq\":0.23},{\"id\":8426,\"result\":6.0,\"view_count\":47,\"result_rel_freq\":0.52},{\"id\":8427,\"result\":6.0,\"view_count\":169,\"result_rel_freq\":1.88},{\"id\":8428,\"result\":6.0,\"view_count\":63,\"result_rel_freq\":0.7},{\"id\":8429,\"result\":2.0,\"view_count\":41,\"result_rel_freq\":0.46},{\"id\":8430,\"result\":2.0,\"view_count\":46,\"result_rel_freq\":0.51},{\"id\":8431,\"result\":6.0,\"view_count\":72,\"result_rel_freq\":0.8},{\"id\":8432,\"result\":5.0,\"view_count\":68,\"result_rel_freq\":0.76},{\"id\":8433,\"result\":2.0,\"view_count\":16,\"result_rel_freq\":0.18},{\"id\":8434,\"result\":2.0,\"view_count\":40,\"result_rel_freq\":0.45},{\"id\":8435,\"result\":6.0,\"view_count\":55,\"result_rel_freq\":0.61},{\"id\":8436,\"result\":4.0,\"view_count\":56,\"result_rel_freq\":0.62},{\"id\":8437,\"result\":6.0,\"view_count\":58,\"result_rel_freq\":0.65},{\"id\":8438,\"result\":6.0,\"view_count\":10,\"result_rel_freq\":0.11},{\"id\":8439,\"result\":5.0,\"view_count\":95,\"result_rel_freq\":1.06},{\"id\":8440,\"result\":4.0,\"view_count\":15,\"result_rel_freq\":0.17},{\"id\":8441,\"result\":2.0,\"view_count\":17,\"result_rel_freq\":0.19},{\"id\":8442,\"result\":4.0,\"view_count\":65,\"result_rel_freq\":0.72},{\"id\":8443,\"result\":5.0,\"view_count\":47,\"result_rel_freq\":0.52},{\"id\":8444,\"result\":6.0,\"view_count\":31,\"result_rel_freq\":0.34},{\"id\":8445,\"result\":6.0,\"view_count\":183,\"result_rel_freq\":2.04},{\"id\":8446,\"result\":6.0,\"view_count\":20,\"result_rel_freq\":0.22},{\"id\":8447,\"result\":5.0,\"view_count\":67,\"result_rel_freq\":0.75},{\"id\":8448,\"result\":6.0,\"view_count\":37,\"result_rel_freq\":0.41},{\"id\":8449,\"result\":6.0,\"view_count\":148,\"result_rel_freq\":1.65},{\"id\":8450,\"result\":6.0,\"view_count\":57,\"result_rel_freq\":0.63},{\"id\":8451,\"result\":5.0,\"view_count\":65,\"result_rel_freq\":0.72},{\"id\":8452,\"result\":6.0,\"view_count\":74,\"result_rel_freq\":0.82},{\"id\":8453,\"result\":3.0,\"view_count\":92,\"result_rel_freq\":1.02},{\"id\":8454,\"result\":6.0,\"view_count\":94,\"result_rel_freq\":1.05},{\"id\":8455,\"result\":6.0,\"view_count\":136,\"result_rel_freq\":1.51},{\"id\":8456,\"result\":5.0,\"view_count\":37,\"result_rel_freq\":0.41},{\"id\":8457,\"result\":6.0,\"view_count\":37,\"result_rel_freq\":0.41},{\"id\":8458,\"result\":2.0,\"view_count\":55,\"result_rel_freq\":0.61},{\"id\":8459,\"result\":5.0,\"view_count\":102,\"result_rel_freq\":1.13},{\"id\":8465,\"result\":6.0,\"view_count\":161,\"result_rel_freq\":1.79},{\"id\":8483,\"result\":5.0,\"view_count\":96,\"result_rel_freq\":1.07},{\"id\":8487,\"result\":2.0,\"view_count\":2,\"result_rel_freq\":0.02}]'"
      ]
     },
     "execution_count": 32,
     "metadata": {},
     "output_type": "execute_result"
    }
   ],
   "source": [
    "pt = ''\n",
    "correl_df.to_json(orient='records')"
   ]
  },
  {
   "cell_type": "code",
   "execution_count": 27,
   "id": "3b38ab2b",
   "metadata": {},
   "outputs": [
    {
     "data": {
      "text/plain": [
       "<AxesSubplot:xlabel='Result', ylabel='View Count'>"
      ]
     },
     "execution_count": 27,
     "metadata": {},
     "output_type": "execute_result"
    },
    {
     "data": {
      "image/png": "[encoded data removed]",
      "text/plain": [
       "<Figure size 432x288 with 1 Axes>"
      ]
     },
     "metadata": {
      "needs_background": "light"
     },
     "output_type": "display_data"
    }
   ],
   "source": [
    "corr_df.plot(x ='Result', y='View Count', kind = 'scatter')"
   ]
  }
 ],
 "metadata": {
  "kernelspec": {
   "display_name": "Python 3",
   "language": "python",
   "name": "python3"
  },
  "language_info": {
   "codemirror_mode": {
    "name": "ipython",
    "version": 3
   },
   "file_extension": ".py",
   "mimetype": "text/x-python",
   "name": "python",
   "nbconvert_exporter": "python",
   "pygments_lexer": "ipython3",
   "version": "3.8.5"
  }
 },
 "nbformat": 4,
 "nbformat_minor": 5
}